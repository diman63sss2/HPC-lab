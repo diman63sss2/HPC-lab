{
  "cells": [
    {
      "cell_type": "code",
      "execution_count": 50,
      "metadata": {
        "colab": {
          "base_uri": "https://localhost:8080/"
        },
        "id": "LrZRO6nD-VsX",
        "outputId": "5336dc1c-d39e-454a-c643-1ecb2c91a8da"
      },
      "outputs": [
        {
          "output_type": "stream",
          "name": "stdout",
          "text": [
            "nvcc: NVIDIA (R) Cuda compiler driver\n",
            "Copyright (c) 2005-2023 NVIDIA Corporation\n",
            "Built on Tue_Aug_15_22:02:13_PDT_2023\n",
            "Cuda compilation tools, release 12.2, V12.2.140\n",
            "Build cuda_12.2.r12.2/compiler.33191640_0\n",
            "Collecting git+https://github.com/andreinechaev/nvcc4jupyter.git\n",
            "  Cloning https://github.com/andreinechaev/nvcc4jupyter.git to /tmp/pip-req-build-9e1as6ie\n",
            "  Running command git clone --filter=blob:none --quiet https://github.com/andreinechaev/nvcc4jupyter.git /tmp/pip-req-build-9e1as6ie\n",
            "  Resolved https://github.com/andreinechaev/nvcc4jupyter.git to commit 0a71d56e5dce3ff1f0dd2c47c29367629262f527\n",
            "  Preparing metadata (setup.py) ... \u001b[?25l\u001b[?25hdone\n",
            "The nvcc_plugin extension is already loaded. To reload it, use:\n",
            "  %reload_ext nvcc_plugin\n"
          ]
        }
      ],
      "source": [
        "!nvcc --version\n",
        "!pip install git+https://github.com/andreinechaev/nvcc4jupyter.git\n",
        "%load_ext nvcc_plugin"
      ]
    },
    {
      "cell_type": "code",
      "execution_count": 51,
      "metadata": {
        "colab": {
          "base_uri": "https://localhost:8080/"
        },
        "id": "opsZsVGY-YDI",
        "outputId": "bc87051d-bed6-48b9-ad51-94317488e0b5"
      },
      "outputs": [
        {
          "output_type": "stream",
          "name": "stdout",
          "text": [
            "nvcc: NVIDIA (R) Cuda compiler driver\n",
            "Copyright (c) 2005-2023 NVIDIA Corporation\n",
            "Built on Tue_Aug_15_22:02:13_PDT_2023\n",
            "Cuda compilation tools, release 12.2, V12.2.140\n",
            "Build cuda_12.2.r12.2/compiler.33191640_0\n",
            "Collecting git+https://github.com/andreinechaev/nvcc4jupyter.git\n",
            "  Cloning https://github.com/andreinechaev/nvcc4jupyter.git to /tmp/pip-req-build-gawv6jo9\n",
            "  Running command git clone --filter=blob:none --quiet https://github.com/andreinechaev/nvcc4jupyter.git /tmp/pip-req-build-gawv6jo9\n",
            "  Resolved https://github.com/andreinechaev/nvcc4jupyter.git to commit 0a71d56e5dce3ff1f0dd2c47c29367629262f527\n",
            "  Preparing metadata (setup.py) ... \u001b[?25l\u001b[?25hdone\n",
            "The nvcc_plugin extension is already loaded. To reload it, use:\n",
            "  %reload_ext nvcc_plugin\n",
            "/bin/bash: line 1: cuda-install-samples-11.2.sh: command not found\n"
          ]
        }
      ],
      "source": [
        "!/usr/local/cuda/bin/nvcc --version\n",
        "#!pip install --upgrade git+https://github.com/frehseg/nvcc4jupyter.git\n",
        "!pip install git+https://github.com/andreinechaev/nvcc4jupyter.git\n",
        "%load_ext nvcc_plugin\n",
        "!cuda-install-samples-11.2.sh ~ && cd /root/NVIDIA_CUDA-11.2_Samples/"
      ]
    },
    {
      "cell_type": "code",
      "execution_count": 52,
      "metadata": {
        "colab": {
          "base_uri": "https://localhost:8080/",
          "height": 35
        },
        "id": "Vh3tlX51-Kuo",
        "outputId": "419809ec-9bf8-449b-bc3b-d27331dc6fbf"
      },
      "outputs": [
        {
          "output_type": "execute_result",
          "data": {
            "text/plain": [
              "'File written in /content/src/my_curand.cu'"
            ],
            "application/vnd.google.colaboratory.intrinsic+json": {
              "type": "string"
            }
          },
          "metadata": {},
          "execution_count": 52
        }
      ],
      "source": [
        "%%cuda --name my_curand.cu\n",
        "#include <iostream>\n",
        "#include <cstdlib>\n",
        "#include <ctime>\n",
        "#include <cuda_runtime.h>\n",
        "#include <cublas_v2.h>\n",
        "#include <chrono>\n",
        "\n",
        "#define TILE_SIZE 32\n",
        "\n",
        "__global__ void matrixMultiplicationKernel(const double *A, const double *B, double *C, const int N) {\n",
        "    int col = threadIdx.x + blockIdx.x * blockDim.x;\n",
        "    int row = threadIdx.y + blockIdx.y * blockDim.y;\n",
        "\n",
        "    if (row < N && col < N) {\n",
        "        for (int i = 0; i < N; ++i) {\n",
        "            C[row * N + col] += A[row * N + i] * B[i * N + col];\n",
        "        }\n",
        "    }\n",
        "}\n",
        "\n",
        "void fillMatrixRandomly(double *matrix, int rows, int cols) {\n",
        "    srand(time(NULL));\n",
        "    for (int i = 0; i < rows * cols; ++i) {\n",
        "        matrix[i] = static_cast<double>(rand()) / RAND_MAX;\n",
        "    }\n",
        "}\n",
        "\n",
        "void printMatrix(const double *matrix, int rows, int cols) {\n",
        "    for (int i = 0; i < rows; ++i) {\n",
        "        for (int j = 0; j < cols; ++j) {\n",
        "            std::cout << matrix[i * rows + j] << \" \";\n",
        "        }\n",
        "        std::cout << std::endl;\n",
        "    }\n",
        "    std::cout << std::endl;\n",
        "}\n",
        "\n",
        "void printMatrixForward(const double *matrix, int rows, int cols) {\n",
        "    for (int i = 0; i < rows; ++i) {\n",
        "        for (int j = 0; j < cols; ++j) {\n",
        "            printf(\"%f \", matrix[i * rows + j]);\n",
        "        }\n",
        "        printf(\"\\n\");\n",
        "    }\n",
        "    printf(\"\\n\");\n",
        "}\n",
        "\n",
        "void matrixMultiplicationCPU(const double *A, const double *B, double *C, const int N) {\n",
        "    for (int i = 0; i < N; ++i) {\n",
        "        for (int j = 0; j < N; ++j) {\n",
        "            C[i * N + j] = 0.0;\n",
        "            for (int k = 0; k < N; ++k)\n",
        "                C[i * N + j] += A[i * N + k] * B[k * N + j];\n",
        "        }\n",
        "    }\n",
        "}\n",
        "\n",
        "int main() {\n",
        "    int N = 3000;  // Задайте размер матрицы\n",
        "    int numElements = N * N;\n",
        "    double *h_A = new double[numElements];\n",
        "    double *h_B = new double[numElements];\n",
        "    double *h_C_GPU = new double[numElements];\n",
        "    double *h_C_CPU = new double[numElements];\n",
        "\n",
        "    fillMatrixRandomly(h_A, N, N);\n",
        "    fillMatrixRandomly(h_B, N, N);\n",
        "\n",
        "    std::cout << \"Matrix A:\" << std::endl;\n",
        "    printMatrixForward(h_A, 5, 5);\n",
        "    std::cout << \"Matrix B:\" << std::endl;\n",
        "    printMatrixForward(h_B, 5, 5);\n",
        "\n",
        "    double *d_A, *d_B, *d_C;\n",
        "    cudaMalloc(&d_A, numElements * sizeof(double));\n",
        "    cudaMalloc(&d_B, numElements * sizeof(double));\n",
        "    cudaMalloc(&d_C, numElements * sizeof(double));\n",
        "\n",
        "    cudaMemcpy(d_A, h_A, numElements * sizeof(double), cudaMemcpyHostToDevice);\n",
        "    cudaMemcpy(d_B, h_B, numElements * sizeof(double), cudaMemcpyHostToDevice);\n",
        "\n",
        "    // GPU Matrix Multiplication\n",
        "    dim3 threadsPerBlock(TILE_SIZE, TILE_SIZE);\n",
        "    dim3 blocksPerGrid((N + TILE_SIZE - 1) / TILE_SIZE, (N + TILE_SIZE - 1) / TILE_SIZE);\n",
        "\n",
        "    auto start_gpu = std::chrono::high_resolution_clock::now();\n",
        "    matrixMultiplicationKernel<<<blocksPerGrid, threadsPerBlock>>>(d_A, d_B, d_C, N);\n",
        "    cudaDeviceSynchronize();\n",
        "    auto end_gpu = std::chrono::high_resolution_clock::now();\n",
        "    std::chrono::duration<double> gpu_time = end_gpu - start_gpu;\n",
        "\n",
        "    cudaMemcpy(h_C_GPU, d_C, numElements * sizeof(double), cudaMemcpyDeviceToHost);\n",
        "\n",
        "    std::cout << \"\\nMatrix C (GPU):\" << std::endl;\n",
        "    printMatrixForward(h_C_GPU, 5, 5);\n",
        "\n",
        "    // CPU Matrix Multiplication\n",
        "    auto start_cpu = std::chrono::high_resolution_clock::now();\n",
        "    matrixMultiplicationCPU(h_A, h_B, h_C_CPU, N);\n",
        "    auto end_cpu = std::chrono::high_resolution_clock::now();\n",
        "    std::chrono::duration<double> cpu_time = end_cpu - start_cpu;\n",
        "\n",
        "    std::cout << \"\\nMatrix C (CPU):\" << std::endl;\n",
        "    printMatrixForward(h_C_CPU, 5, 5);\n",
        "\n",
        "    // Compare results\n",
        "    double error = 0.0;\n",
        "    for (int i = 0; i < numElements; ++i) {\n",
        "        error += std::abs(h_C_GPU[i] - h_C_CPU[i]);\n",
        "    }\n",
        "\n",
        "    std::cout << \"\\nError = \" << error << std::endl;\n",
        "    std::cout << \"\\nN = \" << N << std::endl;\n",
        "    std::cout << \"\\nGPU mul time = \" << gpu_time.count() << \" seconds\" << std::endl;\n",
        "    std::cout << \"\\nCPU mul time = \" << cpu_time.count() << \" seconds\" << std::endl;\n",
        "\n",
        "    delete[] h_A;\n",
        "    delete[] h_B;\n",
        "    delete[] h_C_GPU;\n",
        "    delete[] h_C_CPU;\n",
        "\n",
        "    cudaFree(d_A);\n",
        "    cudaFree(d_B);\n",
        "    cudaFree(d_C);\n",
        "\n",
        "    return 0;\n",
        "}\n"
      ]
    },
    {
      "cell_type": "code",
      "execution_count": 53,
      "metadata": {
        "id": "xsndIyd7ceiZ"
      },
      "outputs": [],
      "source": [
        "!nvcc -o /content/src/my_curand /content/src/my_curand.cu -lcurand -lcublas"
      ]
    },
    {
      "cell_type": "code",
      "execution_count": 54,
      "metadata": {
        "colab": {
          "base_uri": "https://localhost:8080/"
        },
        "id": "liRrstXqcf4I",
        "outputId": "2d649b38-5173-47e4-9360-bb5bbc7d6b8e"
      },
      "outputs": [
        {
          "output_type": "stream",
          "name": "stdout",
          "text": [
            "Matrix A:\n",
            "0.618533 0.561983 0.042267 0.593280 0.457834 \n",
            "0.237310 0.848155 0.006550 0.611795 0.876911 \n",
            "0.987962 0.683411 0.171027 0.707056 0.339619 \n",
            "0.449062 0.473236 0.141043 0.025343 0.042700 \n",
            "0.315069 0.850658 0.515433 0.710295 0.149854 \n",
            "\n",
            "Matrix B:\n",
            "0.618533 0.561983 0.042267 0.593280 0.457834 \n",
            "0.237310 0.848155 0.006550 0.611795 0.876911 \n",
            "0.987962 0.683411 0.171027 0.707056 0.339619 \n",
            "0.449062 0.473236 0.141043 0.025343 0.042700 \n",
            "0.315069 0.850658 0.515433 0.710295 0.149854 \n",
            "\n",
            "\n",
            "Matrix C (GPU):\n",
            "767.508894 766.474382 758.794055 763.178279 770.346960 \n",
            "771.612617 769.668992 755.427948 772.617921 764.810207 \n",
            "761.534849 755.589832 779.737684 764.639099 763.546845 \n",
            "773.299903 777.331927 764.259034 763.243922 760.487803 \n",
            "754.737733 773.429010 766.912783 761.758349 763.936941 \n",
            "\n",
            "\n",
            "Matrix C (CPU):\n",
            "767.508894 766.474382 758.794055 763.178279 770.346960 \n",
            "771.612617 769.668992 755.427948 772.617921 764.810207 \n",
            "761.534849 755.589832 779.737684 764.639099 763.546845 \n",
            "773.299903 777.331927 764.259034 763.243922 760.487803 \n",
            "754.737733 773.429010 766.912783 761.758349 763.936941 \n",
            "\n",
            "\n",
            "Error = 3.65424e-07\n",
            "\n",
            "N = 3000\n",
            "\n",
            "GPU mul time = 0.433675 seconds\n",
            "\n",
            "CPU mul time = 379.277 seconds\n"
          ]
        }
      ],
      "source": [
        "!/content/src/my_curand"
      ]
    },
    {
      "cell_type": "code",
      "source": [
        "!pip install matplotlib"
      ],
      "metadata": {
        "colab": {
          "base_uri": "https://localhost:8080/"
        },
        "id": "Ol8C5GjZ4b8a",
        "outputId": "36289da1-bddd-41a2-845d-cc992a6801ac"
      },
      "execution_count": 55,
      "outputs": [
        {
          "output_type": "stream",
          "name": "stdout",
          "text": [
            "Requirement already satisfied: matplotlib in /usr/local/lib/python3.10/dist-packages (3.7.1)\n",
            "Requirement already satisfied: contourpy>=1.0.1 in /usr/local/lib/python3.10/dist-packages (from matplotlib) (1.2.0)\n",
            "Requirement already satisfied: cycler>=0.10 in /usr/local/lib/python3.10/dist-packages (from matplotlib) (0.12.1)\n",
            "Requirement already satisfied: fonttools>=4.22.0 in /usr/local/lib/python3.10/dist-packages (from matplotlib) (4.46.0)\n",
            "Requirement already satisfied: kiwisolver>=1.0.1 in /usr/local/lib/python3.10/dist-packages (from matplotlib) (1.4.5)\n",
            "Requirement already satisfied: numpy>=1.20 in /usr/local/lib/python3.10/dist-packages (from matplotlib) (1.23.5)\n",
            "Requirement already satisfied: packaging>=20.0 in /usr/local/lib/python3.10/dist-packages (from matplotlib) (23.2)\n",
            "Requirement already satisfied: pillow>=6.2.0 in /usr/local/lib/python3.10/dist-packages (from matplotlib) (9.4.0)\n",
            "Requirement already satisfied: pyparsing>=2.3.1 in /usr/local/lib/python3.10/dist-packages (from matplotlib) (3.1.1)\n",
            "Requirement already satisfied: python-dateutil>=2.7 in /usr/local/lib/python3.10/dist-packages (from matplotlib) (2.8.2)\n",
            "Requirement already satisfied: six>=1.5 in /usr/local/lib/python3.10/dist-packages (from python-dateutil>=2.7->matplotlib) (1.16.0)\n"
          ]
        }
      ]
    },
    {
      "cell_type": "code",
      "source": [
        "from matplotlib import pyplot as plt\n",
        "%matplotlib inline\n",
        "\n",
        "size = [10, 25, 50, 100, 200, 400, 1000, 2000, 3000]\n",
        "gpu_time = [0.000232432, 0.000204423, 0.00264344, 0.000290221, 0.000588789, 0.00353604, 0.0243184, 0.186924, 0.433675]\n",
        "cpu_time = [1.5887e-05, 7.3281e-05, 0.00096928, 0.00576776, 0.0377621, 1.5329, 14.2159, 105.23, 379.277]\n",
        "\n",
        "assert len(size) == len(gpu_time)\n",
        "assert len(size) == len(cpu_time)\n",
        "\n",
        "acceleration = [cpu / gpu for cpu, gpu in zip(cpu_time, gpu_time)]\n",
        "\n",
        "fig, axes = plt.subplots(nrows=1, ncols=2)\n",
        "axes[0].plot(size, cpu_time, label='CPU', color='b')\n",
        "axes[0].plot(size, gpu_time, label='GPU', color='r')\n",
        "axes[0].grid(True)\n",
        "axes[0].legend()\n",
        "axes[0].set_xlabel(\"Размер матрицы\")\n",
        "axes[0].set_ylabel(\"Время умножения, с\")\n",
        "axes[0].set_title('Время матричного умножения')\n",
        "\n",
        "axes[1].plot(size, acceleration, color='g')\n",
        "axes[1].grid(True)\n",
        "axes[1].set_xlabel(\"Размер матрицы\")\n",
        "axes[1].set_ylabel(\"Разы\")\n",
        "axes[1].set_title('Ускорение вычислений на GPU')\n",
        "\n",
        "plt.tight_layout()\n",
        "plt.show()"
      ],
      "metadata": {
        "colab": {
          "base_uri": "https://localhost:8080/",
          "height": 487
        },
        "id": "Aw3aBV_y4mcX",
        "outputId": "28868b8c-d3e5-434b-9f3a-eb8a76002b9b"
      },
      "execution_count": 56,
      "outputs": [
        {
          "output_type": "display_data",
          "data": {
            "text/plain": [
              "<Figure size 640x480 with 2 Axes>"
            ],
            "image/png": "[encoded data removed]"
          },
          "metadata": {}
        }
      ]
    }
  ],
  "metadata": {
    "accelerator": "GPU",
    "colab": {
      "provenance": []
    },
    "kernelspec": {
      "display_name": "Python 3",
      "name": "python3"
    },
    "language_info": {
      "name": "python"
    }
  },
  "nbformat": 4,
  "nbformat_minor": 0
}