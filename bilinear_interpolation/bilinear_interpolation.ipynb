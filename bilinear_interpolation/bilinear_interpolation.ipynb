{
  "cells": [
    {
      "cell_type": "code",
      "execution_count": 29,
      "metadata": {
        "colab": {
          "base_uri": "https://localhost:8080/"
        },
        "id": "LrZRO6nD-VsX",
        "outputId": "e24b1642-b8f1-4362-f5ca-111611d8a301"
      },
      "outputs": [
        {
          "output_type": "stream",
          "name": "stdout",
          "text": [
            "nvcc: NVIDIA (R) Cuda compiler driver\n",
            "Copyright (c) 2005-2023 NVIDIA Corporation\n",
            "Built on Tue_Aug_15_22:02:13_PDT_2023\n",
            "Cuda compilation tools, release 12.2, V12.2.140\n",
            "Build cuda_12.2.r12.2/compiler.33191640_0\n",
            "Collecting git+https://github.com/andreinechaev/nvcc4jupyter.git\n",
            "  Cloning https://github.com/andreinechaev/nvcc4jupyter.git to /tmp/pip-req-build-buc6yhtt\n",
            "  Running command git clone --filter=blob:none --quiet https://github.com/andreinechaev/nvcc4jupyter.git /tmp/pip-req-build-buc6yhtt\n",
            "  Resolved https://github.com/andreinechaev/nvcc4jupyter.git to commit 0a71d56e5dce3ff1f0dd2c47c29367629262f527\n",
            "  Preparing metadata (setup.py) ... \u001b[?25l\u001b[?25hdone\n",
            "The nvcc_plugin extension is already loaded. To reload it, use:\n",
            "  %reload_ext nvcc_plugin\n"
          ]
        }
      ],
      "source": [
        "!nvcc --version\n",
        "!pip install git+https://github.com/andreinechaev/nvcc4jupyter.git\n",
        "%load_ext nvcc_plugin"
      ]
    },
    {
      "cell_type": "code",
      "execution_count": 30,
      "metadata": {
        "id": "opsZsVGY-YDI",
        "colab": {
          "base_uri": "https://localhost:8080/"
        },
        "outputId": "4c37313b-7b9d-4659-ba0c-695c6193fb46"
      },
      "outputs": [
        {
          "output_type": "stream",
          "name": "stdout",
          "text": [
            "nvcc: NVIDIA (R) Cuda compiler driver\n",
            "Copyright (c) 2005-2023 NVIDIA Corporation\n",
            "Built on Tue_Aug_15_22:02:13_PDT_2023\n",
            "Cuda compilation tools, release 12.2, V12.2.140\n",
            "Build cuda_12.2.r12.2/compiler.33191640_0\n",
            "Collecting git+https://github.com/andreinechaev/nvcc4jupyter.git\n",
            "  Cloning https://github.com/andreinechaev/nvcc4jupyter.git to /tmp/pip-req-build-nk6a920w\n",
            "  Running command git clone --filter=blob:none --quiet https://github.com/andreinechaev/nvcc4jupyter.git /tmp/pip-req-build-nk6a920w\n",
            "  Resolved https://github.com/andreinechaev/nvcc4jupyter.git to commit 0a71d56e5dce3ff1f0dd2c47c29367629262f527\n",
            "  Preparing metadata (setup.py) ... \u001b[?25l\u001b[?25hdone\n",
            "The nvcc_plugin extension is already loaded. To reload it, use:\n",
            "  %reload_ext nvcc_plugin\n",
            "/bin/bash: line 1: cuda-install-samples-11.2.sh: command not found\n"
          ]
        }
      ],
      "source": [
        "!/usr/local/cuda/bin/nvcc --version\n",
        "#!pip install --upgrade git+https://github.com/frehseg/nvcc4jupyter.git\n",
        "!pip install git+https://github.com/andreinechaev/nvcc4jupyter.git\n",
        "%load_ext nvcc_plugin\n",
        "!cuda-install-samples-11.2.sh ~ && cd /root/NVIDIA_CUDA-11.2_Samples/"
      ]
    },
    {
      "cell_type": "code",
      "execution_count": 31,
      "metadata": {
        "id": "PoEKp4gxpwRS",
        "colab": {
          "base_uri": "https://localhost:8080/"
        },
        "outputId": "33834594-d753-459a-92bb-ff3a8cb5bd60"
      },
      "outputs": [
        {
          "output_type": "stream",
          "name": "stdout",
          "text": [
            "Reading package lists... Done\n",
            "Building dependency tree... Done\n",
            "Reading state information... Done\n",
            "libopencv-dev is already the newest version (4.5.4+dfsg-9ubuntu4).\n",
            "0 upgraded, 0 newly installed, 0 to remove and 24 not upgraded.\n",
            "Reading package lists... Done\n",
            "Building dependency tree... Done\n",
            "Reading state information... Done\n",
            "libopencv-core-dev is already the newest version (4.5.4+dfsg-9ubuntu4).\n",
            "0 upgraded, 0 newly installed, 0 to remove and 24 not upgraded.\n"
          ]
        }
      ],
      "source": [
        "!apt-get -y install libopencv-dev\n",
        "!apt-get -y install libopencv-core-dev"
      ]
    },
    {
      "cell_type": "code",
      "execution_count": 32,
      "metadata": {
        "id": "Vh3tlX51-Kuo",
        "colab": {
          "base_uri": "https://localhost:8080/",
          "height": 35
        },
        "outputId": "8f840f09-2c29-4259-f161-ca6e36c9113c"
      },
      "outputs": [
        {
          "output_type": "execute_result",
          "data": {
            "text/plain": [
              "'File written in /content/src/my_curand.cu'"
            ],
            "application/vnd.google.colaboratory.intrinsic+json": {
              "type": "string"
            }
          },
          "metadata": {},
          "execution_count": 32
        }
      ],
      "source": [
        "%%cuda --name my_curand.cu\n",
        "\n",
        "#include <iostream>\n",
        "#include <chrono>\n",
        "#include <cuda_runtime.h>\n",
        "#include <cuda_texture_types.h>\n",
        "#include <opencv2/opencv.hpp>\n",
        "\n",
        "#define CUDA_CHECK_ERROR() do { \\\n",
        "    cudaError_t err = cudaGetLastError(); \\\n",
        "    if (err != cudaSuccess) { \\\n",
        "        std::cerr << \"CUDA error: \" << cudaGetErrorString(err) << \" at \" << __FILE__ << \":\" << __LINE__ << std::endl; \\\n",
        "        exit(-1); \\\n",
        "    } \\\n",
        "} while (0)\n",
        "\n",
        "__global__ void kern(const uchar* img, float* result, int width, int height) {\n",
        "    int idx = blockIdx.x * blockDim.x + threadIdx.x;\n",
        "    int jdx = blockIdx.y * blockDim.y + threadIdx.y;\n",
        "\n",
        "    if (idx < width * 2 && jdx < height * 2) {\n",
        "        int x = idx / 2;\n",
        "        int y = jdx / 2;\n",
        "\n",
        "        if (x < width - 1 && y < height - 1) {\n",
        "            int dx = idx % 2;\n",
        "            int dy = jdx % 2;\n",
        "\n",
        "            int x1 = min(x + 1, width - 1);\n",
        "            int y1 = min(y + 1, height - 1);\n",
        "\n",
        "            result[idx * height * 2 + jdx] =\n",
        "                img[x * height + y] * (1 - dx) * (1 - dy) +\n",
        "                img[x * height + y1] * (1 - dx) * dy +\n",
        "                img[x1 * height + y] * dx * (1 - dy) +\n",
        "                img[x1 * height + y1] * dx * dy;\n",
        "        }\n",
        "    }\n",
        "}\n",
        "\n",
        "std::pair<float*, float> gpu_bilinear_interpolation(const uchar* img, int width, int height) {\n",
        "    int threads_per_block_x = 8;\n",
        "    int threads_per_block_y = 8;\n",
        "    int blocks_per_grid_x = (width * 2 + threads_per_block_x - 1) / threads_per_block_x;\n",
        "    int blocks_per_grid_y = (height * 2 + threads_per_block_y - 1) / threads_per_block_y;\n",
        "\n",
        "    dim3 threads_per_block(threads_per_block_x, threads_per_block_y);\n",
        "    dim3 blocks_per_grid(blocks_per_grid_x, blocks_per_grid_y);\n",
        "\n",
        "    float* result_dev;\n",
        "    cudaMalloc((void**)&result_dev, sizeof(float) * width * 2 * height * 2);\n",
        "    CUDA_CHECK_ERROR();\n",
        "\n",
        "    uchar* img_dev;\n",
        "    cudaMalloc((void**)&img_dev, sizeof(uchar) * width * height);\n",
        "    CUDA_CHECK_ERROR();\n",
        "\n",
        "    cudaMemcpy(img_dev, img, sizeof(uchar) * width * height, cudaMemcpyHostToDevice);\n",
        "    CUDA_CHECK_ERROR();\n",
        "\n",
        "    cudaEvent_t start, stop;\n",
        "    cudaEventCreate(&start);\n",
        "    cudaEventCreate(&stop);\n",
        "    cudaEventRecord(start);\n",
        "\n",
        "    kern<<<blocks_per_grid, threads_per_block>>>(img_dev, result_dev, width, height);\n",
        "    cudaDeviceSynchronize();\n",
        "\n",
        "    cudaEventRecord(stop);\n",
        "    cudaEventSynchronize(stop);\n",
        "    float elapsed_time;\n",
        "    cudaEventElapsedTime(&elapsed_time, start, stop);\n",
        "\n",
        "    float* result_host = new float[width * 2 * height * 2];\n",
        "    cudaMemcpy(result_host, result_dev, sizeof(float) * width * 2 * height * 2, cudaMemcpyDeviceToHost);\n",
        "    CUDA_CHECK_ERROR();\n",
        "\n",
        "    cudaFree(result_dev);\n",
        "    cudaFree(img_dev);\n",
        "\n",
        "    return std::make_pair(result_host, elapsed_time / 1000);\n",
        "}\n",
        "\n",
        "float* cpu_bilinear_interpolation(const uchar* img, int width, int height) {\n",
        "    float* result = new float[width * 2 * height * 2];\n",
        "\n",
        "    for (int idx = 0; idx < width * 2; ++idx) {\n",
        "        for (int jdx = 0; jdx < height * 2; ++jdx) {\n",
        "            int x = idx / 2;\n",
        "            int y = jdx / 2;\n",
        "\n",
        "            if (x < width - 1 && y < height - 1) {\n",
        "                int dx = idx % 2;\n",
        "                int dy = jdx % 2;\n",
        "\n",
        "                int x1 = std::min(x + 1, width - 1);\n",
        "                int y1 = std::min(y + 1, height - 1);\n",
        "\n",
        "                result[idx * height * 2 + jdx] =\n",
        "                    img[x * height + y] * (1 - dx) * (1 - dy) +\n",
        "                    img[x * height + y1] * (1 - dx) * dy +\n",
        "                    img[x1 * height + y] * dx * (1 - dy) +\n",
        "                    img[x1 * height + y1] * dx * dy;\n",
        "            }\n",
        "        }\n",
        "    }\n",
        "\n",
        "    return result;\n",
        "}\n",
        "\n",
        "std::pair<float*, float> cpu_bilinear_interpolation_time(const uchar* img, int width, int height) {\n",
        "    auto start_time = std::chrono::high_resolution_clock::now();\n",
        "\n",
        "    float* result = cpu_bilinear_interpolation(img, width, height);\n",
        "\n",
        "    auto end_time = std::chrono::high_resolution_clock::now();\n",
        "    float elapsed_time = std::chrono::duration_cast<std::chrono::milliseconds>(end_time - start_time).count() / 1000.0f;\n",
        "\n",
        "    return std::make_pair(result, elapsed_time);\n",
        "}\n",
        "\n",
        "void save_image(const std::string& filename, const float* data, int width, int height) {\n",
        "    cv::Mat output_image(height * 2, width * 2, CV_32F, (void*)data);\n",
        "    output_image.convertTo(output_image, CV_8U);\n",
        "    cv::imwrite(filename, output_image);\n",
        "}\n",
        "\n",
        "int main() {\n",
        "    cv::Mat image = cv::imread(\"picture1200.bmp\", cv::IMREAD_GRAYSCALE);\n",
        "    if (image.empty()) {\n",
        "        std::cerr << \"Error: Could not read input image.\" << std::endl;\n",
        "        return -1;\n",
        "    }\n",
        "\n",
        "    int width = image.cols;\n",
        "    int height = image.rows;\n",
        "\n",
        "    std::cout << \"Input Image Dimensions: \" << height << \" x \" << width << std::endl;\n",
        "\n",
        "    auto [result_gpu, result_time_gpu] = gpu_bilinear_interpolation(image.data, width, height);\n",
        "\n",
        "    auto [result_cpu, result_time_cpu] = cpu_bilinear_interpolation_time(image.data, width, height);\n",
        "\n",
        "    std::cout << \"GPU Execution Time: \" << result_time_gpu << \" seconds\" << std::endl;\n",
        "    std::cout << \"CPU Execution Time: \" << result_time_cpu << \" seconds\" << std::endl;\n",
        "    std::cout << \"Time CPU/GPU: \" << result_time_cpu / result_time_gpu << std::endl;\n",
        "\n",
        "    // Сохраняем результаты\n",
        "    save_image(\"1200result_gpu.bmp\", result_gpu, width, height);\n",
        "    save_image(\"1200result_cpu.bmp\", result_cpu, width, height);\n",
        "\n",
        "    delete[] result_gpu;\n",
        "    delete[] result_cpu;\n",
        "\n",
        "    return 0;\n",
        "}"
      ]
    },
    {
      "cell_type": "code",
      "execution_count": 33,
      "metadata": {
        "id": "vntJHBlYtSbD",
        "colab": {
          "base_uri": "https://localhost:8080/"
        },
        "outputId": "1f9bb286-8762-4854-9f35-cfc43a4dda9a"
      },
      "outputs": [
        {
          "output_type": "stream",
          "name": "stdout",
          "text": [
            "Reading package lists... Done\n",
            "Building dependency tree... Done\n",
            "Reading state information... Done\n",
            "libopencv-dev is already the newest version (4.5.4+dfsg-9ubuntu4).\n",
            "0 upgraded, 0 newly installed, 0 to remove and 24 not upgraded.\n",
            "Reading package lists... Done\n",
            "Building dependency tree... Done\n",
            "Reading state information... Done\n",
            "libopencv-core-dev is already the newest version (4.5.4+dfsg-9ubuntu4).\n",
            "0 upgraded, 0 newly installed, 0 to remove and 24 not upgraded.\n"
          ]
        }
      ],
      "source": [
        "!apt-get -y install libopencv-dev\n",
        "!apt-get -y install libopencv-core-dev"
      ]
    },
    {
      "cell_type": "code",
      "execution_count": 34,
      "metadata": {
        "colab": {
          "base_uri": "https://localhost:8080/"
        },
        "id": "xsndIyd7ceiZ",
        "outputId": "b9d34ff2-f493-4ada-94b0-429f5ae09994"
      },
      "outputs": [
        {
          "output_type": "stream",
          "name": "stdout",
          "text": [
            "\u001b[01m\u001b[0m\u001b[01m/usr/include/opencv4/opencv2/stitching/detail/warpers.hpp(235)\u001b[0m: \u001b[01;35mwarning\u001b[0m #611-D: overloaded virtual function \u001b[01m\"cv::detail::PlaneWarper::buildMaps\"\u001b[0m is only partially overridden in class \u001b[01m\"cv::detail::AffineWarper\"\u001b[0m\n",
            "  class AffineWarper : public PlaneWarper\n",
            "        ^\n",
            "\n",
            "\u001b[01;36m\u001b[0m\u001b[01;36mRemark\u001b[0m: The warnings can be suppressed with \"-diag-suppress <warning-number>\"\n",
            "\n",
            "\u001b[01m\u001b[0m\u001b[01m/usr/include/opencv4/opencv2/stitching/detail/warpers.hpp(235)\u001b[0m: \u001b[01;35mwarning\u001b[0m #611-D: overloaded virtual function \u001b[01m\"cv::detail::PlaneWarper::warp\"\u001b[0m is only partially overridden in class \u001b[01m\"cv::detail::AffineWarper\"\u001b[0m\n",
            "  class AffineWarper : public PlaneWarper\n",
            "        ^\n",
            "\n",
            "\u001b[01m\u001b[0m\u001b[01m/usr/include/opencv4/opencv2/stitching/detail/blenders.hpp(100)\u001b[0m: \u001b[01;35mwarning\u001b[0m #611-D: overloaded virtual function \u001b[01m\"cv::detail::Blender::prepare\"\u001b[0m is only partially overridden in class \u001b[01m\"cv::detail::FeatherBlender\"\u001b[0m\n",
            "  class FeatherBlender : public Blender\n",
            "        ^\n",
            "\n",
            "\u001b[01m\u001b[0m\u001b[01m/usr/include/opencv4/opencv2/stitching/detail/blenders.hpp(127)\u001b[0m: \u001b[01;35mwarning\u001b[0m #611-D: overloaded virtual function \u001b[01m\"cv::detail::Blender::prepare\"\u001b[0m is only partially overridden in class \u001b[01m\"cv::detail::MultiBandBlender\"\u001b[0m\n",
            "  class MultiBandBlender : public Blender\n",
            "        ^\n",
            "\n",
            "\u001b[01m\u001b[0m\u001b[01m/usr/include/opencv4/opencv2/stitching/detail/warpers.hpp(235)\u001b[0m: \u001b[01;35mwarning\u001b[0m #611-D: overloaded virtual function \u001b[01m\"cv::detail::PlaneWarper::buildMaps\"\u001b[0m is only partially overridden in class \u001b[01m\"cv::detail::AffineWarper\"\u001b[0m\n",
            "  class AffineWarper : public PlaneWarper\n",
            "        ^\n",
            "\n",
            "\u001b[01;36m\u001b[0m\u001b[01;36mRemark\u001b[0m: The warnings can be suppressed with \"-diag-suppress <warning-number>\"\n",
            "\n",
            "\u001b[01m\u001b[0m\u001b[01m/usr/include/opencv4/opencv2/stitching/detail/warpers.hpp(235)\u001b[0m: \u001b[01;35mwarning\u001b[0m #611-D: overloaded virtual function \u001b[01m\"cv::detail::PlaneWarper::warp\"\u001b[0m is only partially overridden in class \u001b[01m\"cv::detail::AffineWarper\"\u001b[0m\n",
            "  class AffineWarper : public PlaneWarper\n",
            "        ^\n",
            "\n",
            "\u001b[01m\u001b[0m\u001b[01m/usr/include/opencv4/opencv2/stitching/detail/blenders.hpp(100)\u001b[0m: \u001b[01;35mwarning\u001b[0m #611-D: overloaded virtual function \u001b[01m\"cv::detail::Blender::prepare\"\u001b[0m is only partially overridden in class \u001b[01m\"cv::detail::FeatherBlender\"\u001b[0m\n",
            "  class FeatherBlender : public Blender\n",
            "        ^\n",
            "\n",
            "\u001b[01m\u001b[0m\u001b[01m/usr/include/opencv4/opencv2/stitching/detail/blenders.hpp(127)\u001b[0m: \u001b[01;35mwarning\u001b[0m #611-D: overloaded virtual function \u001b[01m\"cv::detail::Blender::prepare\"\u001b[0m is only partially overridden in class \u001b[01m\"cv::detail::MultiBandBlender\"\u001b[0m\n",
            "  class MultiBandBlender : public Blender\n",
            "        ^\n",
            "\n"
          ]
        }
      ],
      "source": [
        "!nvcc -o /content/src/my_curand /content/src/my_curand.cu -lcurand -lcublas -I/usr/include/opencv4 -I/usr/include -L/usr/lib -lopencv_core -lopencv_highgui -lopencv_imgproc -lopencv_imgcodecs"
      ]
    },
    {
      "cell_type": "code",
      "execution_count": 35,
      "metadata": {
        "colab": {
          "base_uri": "https://localhost:8080/"
        },
        "id": "liRrstXqcf4I",
        "outputId": "d487a40c-a16d-4123-e8a0-c7992881cbbf"
      },
      "outputs": [
        {
          "output_type": "stream",
          "name": "stdout",
          "text": [
            "Input Image Dimensions: 1200 x 1200\n",
            "GPU Execution Time: 0.000605184 seconds\n",
            "CPU Execution Time: 0.171 seconds\n",
            "Time CPU/GPU: 282.559\n"
          ]
        }
      ],
      "source": [
        "!/content/src/my_curand"
      ]
    },
    {
      "cell_type": "code",
      "execution_count": 36,
      "metadata": {
        "colab": {
          "base_uri": "https://localhost:8080/"
        },
        "id": "Ol8C5GjZ4b8a",
        "outputId": "1bf56271-addf-4828-9928-ba0b16b85645"
      },
      "outputs": [
        {
          "output_type": "stream",
          "name": "stdout",
          "text": [
            "Requirement already satisfied: matplotlib in /usr/local/lib/python3.10/dist-packages (3.7.1)\n",
            "Requirement already satisfied: contourpy>=1.0.1 in /usr/local/lib/python3.10/dist-packages (from matplotlib) (1.2.0)\n",
            "Requirement already satisfied: cycler>=0.10 in /usr/local/lib/python3.10/dist-packages (from matplotlib) (0.12.1)\n",
            "Requirement already satisfied: fonttools>=4.22.0 in /usr/local/lib/python3.10/dist-packages (from matplotlib) (4.46.0)\n",
            "Requirement already satisfied: kiwisolver>=1.0.1 in /usr/local/lib/python3.10/dist-packages (from matplotlib) (1.4.5)\n",
            "Requirement already satisfied: numpy>=1.20 in /usr/local/lib/python3.10/dist-packages (from matplotlib) (1.23.5)\n",
            "Requirement already satisfied: packaging>=20.0 in /usr/local/lib/python3.10/dist-packages (from matplotlib) (23.2)\n",
            "Requirement already satisfied: pillow>=6.2.0 in /usr/local/lib/python3.10/dist-packages (from matplotlib) (9.4.0)\n",
            "Requirement already satisfied: pyparsing>=2.3.1 in /usr/local/lib/python3.10/dist-packages (from matplotlib) (3.1.1)\n",
            "Requirement already satisfied: python-dateutil>=2.7 in /usr/local/lib/python3.10/dist-packages (from matplotlib) (2.8.2)\n",
            "Requirement already satisfied: six>=1.5 in /usr/local/lib/python3.10/dist-packages (from python-dateutil>=2.7->matplotlib) (1.16.0)\n"
          ]
        }
      ],
      "source": [
        "!pip install matplotlib"
      ]
    },
    {
      "cell_type": "code",
      "execution_count": 39,
      "metadata": {
        "colab": {
          "base_uri": "https://localhost:8080/",
          "height": 487
        },
        "id": "Aw3aBV_y4mcX",
        "outputId": "2b0510fc-1d29-4bfa-fa65-1da37962de39"
      },
      "outputs": [
        {
          "output_type": "display_data",
          "data": {
            "text/plain": [
              "<Figure size 640x480 with 2 Axes>"
            ],
            "image/png": "[encoded data removed]"
          },
          "metadata": {}
        }
      ],
      "source": [
        "from matplotlib import pyplot as plt\n",
        "%matplotlib inline\n",
        "\n",
        "size = [100, 200, 400, 600, 1200]\n",
        "gpu_time = [0.000248208, 0.000259104, 0.000252736, 0.000235552, 0.000605184]\n",
        "cpu_time = [0.005, 0.01, 0.019, 0.03, 0.171]\n",
        "\n",
        "assert len(size) == len(gpu_time)\n",
        "assert len(size) == len(cpu_time)\n",
        "\n",
        "acceleration = [cpu / gpu for cpu, gpu in zip(cpu_time, gpu_time)]\n",
        "\n",
        "fig, axes = plt.subplots(nrows=1, ncols=2)\n",
        "axes[0].plot(size, cpu_time, label='CPU', color='b')\n",
        "axes[0].plot(size, gpu_time, label='GPU', color='r')\n",
        "axes[0].grid(True)\n",
        "axes[0].legend()\n",
        "axes[0].set_xlabel(\"Разрешение NxN\")\n",
        "axes[0].set_ylabel(\"Время, с\")\n",
        "axes[0].set_title(\"Время работы\")\n",
        "\n",
        "axes[1].plot(size, acceleration, color='g')\n",
        "axes[1].grid(True)\n",
        "axes[1].set_xlabel(\"Разрешение NxN\")\n",
        "axes[1].set_ylabel(\"Разы\")\n",
        "axes[1].set_title(\"Ускорение вычислений на GPU\")\n",
        "\n",
        "plt.tight_layout()\n",
        "plt.show()"
      ]
    }
  ],
  "metadata": {
    "accelerator": "GPU",
    "colab": {
      "provenance": []
    },
    "kernelspec": {
      "display_name": "Python 3",
      "name": "python3"
    },
    "language_info": {
      "name": "python"
    }
  },
  "nbformat": 4,
  "nbformat_minor": 0
}