{
  "cells": [
    {
      "cell_type": "code",
      "execution_count": 29,
      "metadata": {
        "colab": {
          "base_uri": "https://localhost:8080/"
        },
        "id": "LrZRO6nD-VsX",
        "outputId": "1b0599cb-721e-4c05-fa58-f8d277033a49"
      },
      "outputs": [
        {
          "output_type": "stream",
          "name": "stdout",
          "text": [
            "nvcc: NVIDIA (R) Cuda compiler driver\n",
            "Copyright (c) 2005-2023 NVIDIA Corporation\n",
            "Built on Tue_Aug_15_22:02:13_PDT_2023\n",
            "Cuda compilation tools, release 12.2, V12.2.140\n",
            "Build cuda_12.2.r12.2/compiler.33191640_0\n",
            "Collecting git+https://github.com/andreinechaev/nvcc4jupyter.git\n",
            "  Cloning https://github.com/andreinechaev/nvcc4jupyter.git to /tmp/pip-req-build-4slp4xv4\n",
            "  Running command git clone --filter=blob:none --quiet https://github.com/andreinechaev/nvcc4jupyter.git /tmp/pip-req-build-4slp4xv4\n",
            "  Resolved https://github.com/andreinechaev/nvcc4jupyter.git to commit 0a71d56e5dce3ff1f0dd2c47c29367629262f527\n",
            "  Preparing metadata (setup.py) ... \u001b[?25l\u001b[?25hdone\n",
            "The nvcc_plugin extension is already loaded. To reload it, use:\n",
            "  %reload_ext nvcc_plugin\n"
          ]
        }
      ],
      "source": [
        "!nvcc --version\n",
        "!pip install git+https://github.com/andreinechaev/nvcc4jupyter.git\n",
        "%load_ext nvcc_plugin"
      ]
    },
    {
      "cell_type": "code",
      "execution_count": 30,
      "metadata": {
        "id": "opsZsVGY-YDI",
        "colab": {
          "base_uri": "https://localhost:8080/"
        },
        "outputId": "019468ee-6f51-428f-af9a-b42c51dfbc17"
      },
      "outputs": [
        {
          "output_type": "stream",
          "name": "stdout",
          "text": [
            "nvcc: NVIDIA (R) Cuda compiler driver\n",
            "Copyright (c) 2005-2023 NVIDIA Corporation\n",
            "Built on Tue_Aug_15_22:02:13_PDT_2023\n",
            "Cuda compilation tools, release 12.2, V12.2.140\n",
            "Build cuda_12.2.r12.2/compiler.33191640_0\n",
            "Collecting git+https://github.com/andreinechaev/nvcc4jupyter.git\n",
            "  Cloning https://github.com/andreinechaev/nvcc4jupyter.git to /tmp/pip-req-build-adzts4s7\n",
            "  Running command git clone --filter=blob:none --quiet https://github.com/andreinechaev/nvcc4jupyter.git /tmp/pip-req-build-adzts4s7\n",
            "  Resolved https://github.com/andreinechaev/nvcc4jupyter.git to commit 0a71d56e5dce3ff1f0dd2c47c29367629262f527\n",
            "  Preparing metadata (setup.py) ... \u001b[?25l\u001b[?25hdone\n",
            "The nvcc_plugin extension is already loaded. To reload it, use:\n",
            "  %reload_ext nvcc_plugin\n",
            "/bin/bash: line 1: cuda-install-samples-11.2.sh: command not found\n"
          ]
        }
      ],
      "source": [
        "!/usr/local/cuda/bin/nvcc --version\n",
        "#!pip install --upgrade git+https://github.com/frehseg/nvcc4jupyter.git\n",
        "!pip install git+https://github.com/andreinechaev/nvcc4jupyter.git\n",
        "%load_ext nvcc_plugin\n",
        "!cuda-install-samples-11.2.sh ~ && cd /root/NVIDIA_CUDA-11.2_Samples/"
      ]
    },
    {
      "cell_type": "code",
      "execution_count": 31,
      "metadata": {
        "id": "PoEKp4gxpwRS",
        "colab": {
          "base_uri": "https://localhost:8080/"
        },
        "outputId": "046e6804-e735-4ec1-f080-61c480310ca0"
      },
      "outputs": [
        {
          "output_type": "stream",
          "name": "stdout",
          "text": [
            "Reading package lists... Done\n",
            "Building dependency tree... Done\n",
            "Reading state information... Done\n",
            "libopencv-dev is already the newest version (4.5.4+dfsg-9ubuntu4).\n",
            "0 upgraded, 0 newly installed, 0 to remove and 24 not upgraded.\n",
            "Reading package lists... Done\n",
            "Building dependency tree... Done\n",
            "Reading state information... Done\n",
            "libopencv-core-dev is already the newest version (4.5.4+dfsg-9ubuntu4).\n",
            "0 upgraded, 0 newly installed, 0 to remove and 24 not upgraded.\n"
          ]
        }
      ],
      "source": [
        "!apt-get -y install libopencv-dev\n",
        "!apt-get -y install libopencv-core-dev"
      ]
    },
    {
      "cell_type": "code",
      "execution_count": 32,
      "metadata": {
        "id": "Vh3tlX51-Kuo",
        "colab": {
          "base_uri": "https://localhost:8080/",
          "height": 35
        },
        "outputId": "a581e39d-459a-4e3a-ad6d-43f2a5ec5b50"
      },
      "outputs": [
        {
          "output_type": "execute_result",
          "data": {
            "text/plain": [
              "'File written in /content/src/my_curand.cu'"
            ],
            "application/vnd.google.colaboratory.intrinsic+json": {
              "type": "string"
            }
          },
          "metadata": {},
          "execution_count": 32
        }
      ],
      "source": [
        "%%cuda --name my_curand.cu\n",
        "\n",
        "#include <iostream>\n",
        "#include <chrono>\n",
        "#include <cuda_runtime.h>\n",
        "#include <cuda_texture_types.h>\n",
        "#include <opencv2/opencv.hpp>\n",
        "\n",
        "#define CUDA_CHECK_ERROR() do { \\\n",
        "    cudaError_t err = cudaGetLastError(); \\\n",
        "    if (err != cudaSuccess) { \\\n",
        "        std::cerr << \"CUDA error: \" << cudaGetErrorString(err) << \" at \" << __FILE__ << \":\" << __LINE__ << std::endl; \\\n",
        "        exit(-1); \\\n",
        "    } \\\n",
        "} while (0)\n",
        "\n",
        "__device__ float gauss_GPU(float x) {\n",
        "    return 0.2f * expf(-(x * x) / 10.0f);\n",
        "}\n",
        "\n",
        "__host__ float gauss_CPU(float x) {\n",
        "    return 0.2f * exp(-(x * x) / 10.0);\n",
        "}\n",
        "\n",
        "__global__ void GPU_bilateral_filter(const uchar* input_image, uchar* res, int height, int width) {\n",
        "    int i = blockIdx.y * blockDim.y + threadIdx.y;\n",
        "    int j = blockIdx.x * blockDim.x + threadIdx.x;\n",
        "\n",
        "    if (i < height && j < width) {\n",
        "        float current_pixel = static_cast<float>(input_image[i * width + j]) / 255.0f;\n",
        "        int min_i = max(0, i - 4);\n",
        "        int max_i = min(height - 1, i + 4);\n",
        "        int min_j = max(0, j - 4);\n",
        "        int max_j = min(width - 1, j + 4);\n",
        "        float k = 0.0f;\n",
        "        float value = 0.0f;\n",
        "\n",
        "        for (int x = min_i; x <= max_i; ++x) {\n",
        "            for (int y = min_j; y <= max_j; ++y) {\n",
        "                float f = static_cast<float>(input_image[x * width + y]) / 255.0f;\n",
        "                float r = gauss_GPU(f - current_pixel);\n",
        "                float dist_x = static_cast<float>((x - i) * (x - i));\n",
        "                float dist_y = static_cast<float>((y - j) * (y - j));\n",
        "                float g = gauss_GPU(dist_x + dist_y);\n",
        "                value += f * r * g;\n",
        "                k += g * r;\n",
        "            }\n",
        "        }\n",
        "\n",
        "        res[i * width + j] = static_cast<uchar>(255.0f * value / k);\n",
        "    }\n",
        "}\n",
        "\n",
        "cv::Mat CPU_bilateral_filter(const cv::Mat& input_image, int kernel) {\n",
        "    int height = input_image.rows;\n",
        "    int width = input_image.cols;\n",
        "    cv::Mat res(height, width, CV_8UC1);\n",
        "\n",
        "    for (int i = 0; i < height; ++i) {\n",
        "        for (int j = 0; j < width; ++j) {\n",
        "            float current_pixel = static_cast<float>(input_image.at<uchar>(i, j)) / 255.0f;\n",
        "            int min_i = std::max(0, i - kernel);\n",
        "            int max_i = std::min(height - 1, i + kernel);\n",
        "            int min_j = std::max(0, j - kernel);\n",
        "            int max_j = std::min(width - 1, j + kernel);\n",
        "            float k = 0.0f;\n",
        "            float value = 0.0f;\n",
        "\n",
        "            for (int x = min_i; x <= max_i; ++x) {\n",
        "                for (int y = min_j; y <= max_j; ++y) {\n",
        "                    float f = static_cast<float>(input_image.at<uchar>(x, y)) / 255.0f;\n",
        "                    float r = gauss_CPU(f - current_pixel);\n",
        "                    float dist_x = static_cast<float>((x - i) * (x - i));\n",
        "                    float dist_y = static_cast<float>((y - j) * (y - j));\n",
        "                    float g = gauss_CPU(dist_x + dist_y);\n",
        "                    value += f * r * g;\n",
        "                    k += g * r;\n",
        "                }\n",
        "            }\n",
        "\n",
        "            res.at<uchar>(i, j) = static_cast<uchar>(255.0f * value / k);\n",
        "        }\n",
        "    }\n",
        "\n",
        "    return res;\n",
        "}\n",
        "\n",
        "int main() {\n",
        "    cv::Mat inputImage = cv::imread(\"2000x2000.bmp\", cv::IMREAD_GRAYSCALE);\n",
        "    if (inputImage.empty()) {\n",
        "        std::cerr << \"Error: Could not read input image.\" << std::endl;\n",
        "        return -1;\n",
        "    }\n",
        "\n",
        "    int threads_per_block_x = 32;\n",
        "    int threads_per_block_y = 32;\n",
        "    int blocks_per_grid_x = (inputImage.cols + threads_per_block_x - 1) / threads_per_block_x;\n",
        "    int blocks_per_grid_y = (inputImage.rows + threads_per_block_y - 1) / threads_per_block_y;\n",
        "\n",
        "    dim3 threads_per_block(threads_per_block_x, threads_per_block_y);\n",
        "    dim3 blocks_per_grid(blocks_per_grid_x, blocks_per_grid_y);\n",
        "\n",
        "    int kernel = 4;\n",
        "\n",
        "    int w = inputImage.cols;\n",
        "    int h = inputImage.rows;\n",
        "\n",
        "    auto start_CPU = std::chrono::high_resolution_clock::now();\n",
        "    cv::Mat result_CPU = CPU_bilateral_filter(inputImage, kernel);\n",
        "    auto end_CPU = std::chrono::high_resolution_clock::now();\n",
        "    std::chrono::duration<double> execution_CPU = end_CPU - start_CPU;\n",
        "    std::cout << \"Dimension: (\" << w << \", \" << h << \") CPU Execution Time: \" << execution_CPU.count() << \" seconds\\n\";\n",
        "\n",
        "    cv::imwrite(\"CPU_\" + std::to_string(w) + \"x\" + std::to_string(h) + \".bmp\", result_CPU);\n",
        "\n",
        "    uchar* d_input, *d_output;\n",
        "    cudaMalloc((void**)&d_input, inputImage.total() * sizeof(uchar));\n",
        "    cudaMalloc((void**)&d_output, inputImage.total() * sizeof(uchar));\n",
        "    cudaMemcpy(d_input, inputImage.data, inputImage.total() * sizeof(uchar), cudaMemcpyHostToDevice);\n",
        "\n",
        "    auto start_GPU = std::chrono::high_resolution_clock::now();\n",
        "    GPU_bilateral_filter<<<blocks_per_grid, threads_per_block>>>(d_input, d_output, inputImage.rows, inputImage.cols);\n",
        "    cudaDeviceSynchronize();\n",
        "    auto end_GPU = std::chrono::high_resolution_clock::now();\n",
        "    std::chrono::duration<double> execution_GPU = end_GPU - start_GPU;\n",
        "    std::cout << \"Dimension: (\" << w << \", \" << h << \") GPU Execution Time: \" << execution_GPU.count() << \" seconds\\n\";\n",
        "\n",
        "    cv::Mat result_GPU(inputImage.rows, inputImage.cols, CV_8UC1);\n",
        "    cudaMemcpy(result_GPU.data, d_output, result_GPU.total() * sizeof(uchar), cudaMemcpyDeviceToHost);\n",
        "    cv::imwrite(\"GPU_\" + std::to_string(w) + \"x\" + std::to_string(h) + \".bmp\", result_GPU);\n",
        "\n",
        "    std::cout << \"Equality check: \" << (cv::countNonZero(result_GPU == result_CPU) == result_GPU.total()) << \"\\n\";\n",
        "\n",
        "    cudaFree(d_input);\n",
        "    cudaFree(d_output);\n",
        "\n",
        "    return 0;\n",
        "}"
      ]
    },
    {
      "cell_type": "code",
      "execution_count": 33,
      "metadata": {
        "id": "vntJHBlYtSbD",
        "colab": {
          "base_uri": "https://localhost:8080/"
        },
        "outputId": "8fcab162-f303-4864-eba4-c9af6f4d0b3e"
      },
      "outputs": [
        {
          "output_type": "stream",
          "name": "stdout",
          "text": [
            "Reading package lists... Done\n",
            "Building dependency tree... Done\n",
            "Reading state information... Done\n",
            "libopencv-dev is already the newest version (4.5.4+dfsg-9ubuntu4).\n",
            "0 upgraded, 0 newly installed, 0 to remove and 24 not upgraded.\n",
            "Reading package lists... Done\n",
            "Building dependency tree... Done\n",
            "Reading state information... Done\n",
            "libopencv-core-dev is already the newest version (4.5.4+dfsg-9ubuntu4).\n",
            "0 upgraded, 0 newly installed, 0 to remove and 24 not upgraded.\n"
          ]
        }
      ],
      "source": [
        "!apt-get -y install libopencv-dev\n",
        "!apt-get -y install libopencv-core-dev"
      ]
    },
    {
      "cell_type": "code",
      "execution_count": 34,
      "metadata": {
        "colab": {
          "base_uri": "https://localhost:8080/"
        },
        "id": "xsndIyd7ceiZ",
        "outputId": "b7b7c289-7049-4815-afad-07ea13315f5b"
      },
      "outputs": [
        {
          "output_type": "stream",
          "name": "stdout",
          "text": [
            "\u001b[01m\u001b[0m\u001b[01m/usr/include/opencv4/opencv2/stitching/detail/warpers.hpp(235)\u001b[0m: \u001b[01;35mwarning\u001b[0m #611-D: overloaded virtual function \u001b[01m\"cv::detail::PlaneWarper::buildMaps\"\u001b[0m is only partially overridden in class \u001b[01m\"cv::detail::AffineWarper\"\u001b[0m\n",
            "  class AffineWarper : public PlaneWarper\n",
            "        ^\n",
            "\n",
            "\u001b[01;36m\u001b[0m\u001b[01;36mRemark\u001b[0m: The warnings can be suppressed with \"-diag-suppress <warning-number>\"\n",
            "\n",
            "\u001b[01m\u001b[0m\u001b[01m/usr/include/opencv4/opencv2/stitching/detail/warpers.hpp(235)\u001b[0m: \u001b[01;35mwarning\u001b[0m #611-D: overloaded virtual function \u001b[01m\"cv::detail::PlaneWarper::warp\"\u001b[0m is only partially overridden in class \u001b[01m\"cv::detail::AffineWarper\"\u001b[0m\n",
            "  class AffineWarper : public PlaneWarper\n",
            "        ^\n",
            "\n",
            "\u001b[01m\u001b[0m\u001b[01m/usr/include/opencv4/opencv2/stitching/detail/blenders.hpp(100)\u001b[0m: \u001b[01;35mwarning\u001b[0m #611-D: overloaded virtual function \u001b[01m\"cv::detail::Blender::prepare\"\u001b[0m is only partially overridden in class \u001b[01m\"cv::detail::FeatherBlender\"\u001b[0m\n",
            "  class FeatherBlender : public Blender\n",
            "        ^\n",
            "\n",
            "\u001b[01m\u001b[0m\u001b[01m/usr/include/opencv4/opencv2/stitching/detail/blenders.hpp(127)\u001b[0m: \u001b[01;35mwarning\u001b[0m #611-D: overloaded virtual function \u001b[01m\"cv::detail::Blender::prepare\"\u001b[0m is only partially overridden in class \u001b[01m\"cv::detail::MultiBandBlender\"\u001b[0m\n",
            "  class MultiBandBlender : public Blender\n",
            "        ^\n",
            "\n",
            "\u001b[01m\u001b[0m\u001b[01m/usr/include/opencv4/opencv2/stitching/detail/warpers.hpp(235)\u001b[0m: \u001b[01;35mwarning\u001b[0m #611-D: overloaded virtual function \u001b[01m\"cv::detail::PlaneWarper::buildMaps\"\u001b[0m is only partially overridden in class \u001b[01m\"cv::detail::AffineWarper\"\u001b[0m\n",
            "  class AffineWarper : public PlaneWarper\n",
            "        ^\n",
            "\n",
            "\u001b[01;36m\u001b[0m\u001b[01;36mRemark\u001b[0m: The warnings can be suppressed with \"-diag-suppress <warning-number>\"\n",
            "\n",
            "\u001b[01m\u001b[0m\u001b[01m/usr/include/opencv4/opencv2/stitching/detail/warpers.hpp(235)\u001b[0m: \u001b[01;35mwarning\u001b[0m #611-D: overloaded virtual function \u001b[01m\"cv::detail::PlaneWarper::warp\"\u001b[0m is only partially overridden in class \u001b[01m\"cv::detail::AffineWarper\"\u001b[0m\n",
            "  class AffineWarper : public PlaneWarper\n",
            "        ^\n",
            "\n",
            "\u001b[01m\u001b[0m\u001b[01m/usr/include/opencv4/opencv2/stitching/detail/blenders.hpp(100)\u001b[0m: \u001b[01;35mwarning\u001b[0m #611-D: overloaded virtual function \u001b[01m\"cv::detail::Blender::prepare\"\u001b[0m is only partially overridden in class \u001b[01m\"cv::detail::FeatherBlender\"\u001b[0m\n",
            "  class FeatherBlender : public Blender\n",
            "        ^\n",
            "\n",
            "\u001b[01m\u001b[0m\u001b[01m/usr/include/opencv4/opencv2/stitching/detail/blenders.hpp(127)\u001b[0m: \u001b[01;35mwarning\u001b[0m #611-D: overloaded virtual function \u001b[01m\"cv::detail::Blender::prepare\"\u001b[0m is only partially overridden in class \u001b[01m\"cv::detail::MultiBandBlender\"\u001b[0m\n",
            "  class MultiBandBlender : public Blender\n",
            "        ^\n",
            "\n"
          ]
        }
      ],
      "source": [
        "!nvcc -o /content/src/my_curand /content/src/my_curand.cu -lcurand -lcublas -I/usr/include/opencv4 -I/usr/include -L/usr/lib -lopencv_core -lopencv_highgui -lopencv_imgproc -lopencv_imgcodecs"
      ]
    },
    {
      "cell_type": "code",
      "execution_count": 35,
      "metadata": {
        "colab": {
          "base_uri": "https://localhost:8080/"
        },
        "id": "liRrstXqcf4I",
        "outputId": "56073a4e-dffa-422f-8dca-9eab89369036"
      },
      "outputs": [
        {
          "output_type": "stream",
          "name": "stdout",
          "text": [
            "Dimension: (2000, 2000) CPU Execution Time: 16.2571 seconds\n",
            "Dimension: (2000, 2000) GPU Execution Time: 0.0142648 seconds\n",
            "Equality check: 0\n"
          ]
        }
      ],
      "source": [
        "!/content/src/my_curand"
      ]
    },
    {
      "cell_type": "code",
      "execution_count": 36,
      "metadata": {
        "colab": {
          "base_uri": "https://localhost:8080/"
        },
        "id": "Ol8C5GjZ4b8a",
        "outputId": "d89899d2-dfd7-4dc3-9296-4064aab13789"
      },
      "outputs": [
        {
          "output_type": "stream",
          "name": "stdout",
          "text": [
            "Requirement already satisfied: matplotlib in /usr/local/lib/python3.10/dist-packages (3.7.1)\n",
            "Requirement already satisfied: contourpy>=1.0.1 in /usr/local/lib/python3.10/dist-packages (from matplotlib) (1.2.0)\n",
            "Requirement already satisfied: cycler>=0.10 in /usr/local/lib/python3.10/dist-packages (from matplotlib) (0.12.1)\n",
            "Requirement already satisfied: fonttools>=4.22.0 in /usr/local/lib/python3.10/dist-packages (from matplotlib) (4.46.0)\n",
            "Requirement already satisfied: kiwisolver>=1.0.1 in /usr/local/lib/python3.10/dist-packages (from matplotlib) (1.4.5)\n",
            "Requirement already satisfied: numpy>=1.20 in /usr/local/lib/python3.10/dist-packages (from matplotlib) (1.23.5)\n",
            "Requirement already satisfied: packaging>=20.0 in /usr/local/lib/python3.10/dist-packages (from matplotlib) (23.2)\n",
            "Requirement already satisfied: pillow>=6.2.0 in /usr/local/lib/python3.10/dist-packages (from matplotlib) (9.4.0)\n",
            "Requirement already satisfied: pyparsing>=2.3.1 in /usr/local/lib/python3.10/dist-packages (from matplotlib) (3.1.1)\n",
            "Requirement already satisfied: python-dateutil>=2.7 in /usr/local/lib/python3.10/dist-packages (from matplotlib) (2.8.2)\n",
            "Requirement already satisfied: six>=1.5 in /usr/local/lib/python3.10/dist-packages (from python-dateutil>=2.7->matplotlib) (1.16.0)\n"
          ]
        }
      ],
      "source": [
        "!pip install matplotlib"
      ]
    },
    {
      "cell_type": "code",
      "execution_count": 38,
      "metadata": {
        "colab": {
          "base_uri": "https://localhost:8080/",
          "height": 487
        },
        "id": "Aw3aBV_y4mcX",
        "outputId": "422f2955-2be9-46db-bfa4-0ca4ce5c8ee2"
      },
      "outputs": [
        {
          "output_type": "display_data",
          "data": {
            "text/plain": [
              "<Figure size 640x480 with 2 Axes>"
            ],
            "image/png": "[encoded data removed]"
          },
          "metadata": {}
        }
      ],
      "source": [
        "from matplotlib import pyplot as plt\n",
        "%matplotlib inline\n",
        "\n",
        "size = [100, 200, 500, 1000, 2000]\n",
        "gpu_time = [0.00023311, 0.000563385, 0.0011639, 0.00384017, 0.0142648]\n",
        "cpu_time = [0.0370795, 0.244053, 1.0255, 3.849, 16.2571]\n",
        "\n",
        "assert len(size) == len(gpu_time)\n",
        "assert len(size) == len(cpu_time)\n",
        "\n",
        "acceleration = [cpu / gpu for cpu, gpu in zip(cpu_time, gpu_time)]\n",
        "\n",
        "fig, axes = plt.subplots(nrows=1, ncols=2)\n",
        "axes[0].plot(size, cpu_time, label='CPU', color='b')\n",
        "axes[0].plot(size, gpu_time, label='GPU', color='r')\n",
        "axes[0].grid(True)\n",
        "axes[0].legend()\n",
        "axes[0].set_xlabel(\"Разрешение NxN\")\n",
        "axes[0].set_ylabel(\"Время, с\")\n",
        "axes[0].set_title(\"Время векторного сложения\")\n",
        "\n",
        "axes[1].plot(size, acceleration, color='g')\n",
        "axes[1].grid(True)\n",
        "axes[1].set_xlabel(\"Разрешение NxN\")\n",
        "axes[1].set_ylabel(\"Разы\")\n",
        "axes[1].set_title(\"Ускорение вычислений на GPU\")\n",
        "\n",
        "plt.tight_layout()\n",
        "plt.show()"
      ]
    }
  ],
  "metadata": {
    "accelerator": "GPU",
    "colab": {
      "provenance": []
    },
    "kernelspec": {
      "display_name": "Python 3",
      "name": "python3"
    },
    "language_info": {
      "name": "python"
    }
  },
  "nbformat": 4,
  "nbformat_minor": 0
}